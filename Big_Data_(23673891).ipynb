{
  "nbformat": 4,
  "nbformat_minor": 0,
  "metadata": {
    "colab": {
      "provenance": []
    },
    "kernelspec": {
      "name": "python3",
      "display_name": "Python 3"
    },
    "language_info": {
      "name": "python"
    }
  },
  "cells": [
    {
      "cell_type": "markdown",
      "source": [
        "## **Import Necessary Packages**"
      ],
      "metadata": {
        "id": "4XeIuWWGOngU"
      }
    },
    {
      "cell_type": "code",
      "execution_count": null,
      "metadata": {
        "colab": {
          "base_uri": "https://localhost:8080/"
        },
        "id": "7UojeIIm7ekq",
        "outputId": "8cf4401e-b68e-46ec-fb21-3598a335709c"
      },
      "outputs": [
        {
          "output_type": "stream",
          "name": "stdout",
          "text": [
            "sample_data\n"
          ]
        }
      ],
      "source": [
        "# check if this instance of the notebook already has files present\n",
        "!ls"
      ]
    },
    {
      "cell_type": "code",
      "source": [
        "!ls\n",
        "!rm -f spark-3.4.[01]-bin-hadoop3.tgz*\n",
        "!rm -rf spark-3.4.[01]-bin-hadoop3\n",
        "!apt-get install openjdk-8-jdk-headless -qq > /dev/null\n",
        "!wget https://downloads.apache.org/spark/spark-3.4.3/spark-3.4.3-bin-hadoop3.tgz\n",
        "!tar -xf spark-3.4.3-bin-hadoop3.tgz\n",
        "!ls -alt\n",
        "print(\"standalone Spark is now installed\")"
      ],
      "metadata": {
        "colab": {
          "base_uri": "https://localhost:8080/"
        },
        "id": "Ce2_vAai7Ui_",
        "outputId": "439c16f8-e87d-41df-a32c-80c2a5325617"
      },
      "execution_count": null,
      "outputs": [
        {
          "output_type": "stream",
          "name": "stdout",
          "text": [
            "sample_data  spark-3.4.3-bin-hadoop3  spark-3.4.3-bin-hadoop3.tgz\n",
            "--2024-05-11 04:04:20--  https://downloads.apache.org/spark/spark-3.4.3/spark-3.4.3-bin-hadoop3.tgz\n",
            "Resolving downloads.apache.org (downloads.apache.org)... 88.99.208.237, 135.181.214.104, 2a01:4f9:3a:2c57::2, ...\n",
            "Connecting to downloads.apache.org (downloads.apache.org)|88.99.208.237|:443... connected.\n",
            "HTTP request sent, awaiting response... 200 OK\n",
            "Length: 388930980 (371M) [application/x-gzip]\n",
            "Saving to: ‘spark-3.4.3-bin-hadoop3.tgz.1’\n",
            "\n",
            "spark-3.4.3-bin-had 100%[===================>] 370.91M  27.9MB/s    in 14s     \n",
            "\n",
            "2024-05-11 04:04:35 (26.5 MB/s) - ‘spark-3.4.3-bin-hadoop3.tgz.1’ saved [388930980/388930980]\n",
            "\n",
            "total 759652\n",
            "drwxr-xr-x  1 root root      4096 May 11 04:04 .\n",
            "drwxr-xr-x  1 root root      4096 May 11 04:02 ..\n",
            "drwxr-xr-x  1 root root      4096 May  9 13:24 sample_data\n",
            "drwxr-xr-x  4 root root      4096 May  9 13:24 .config\n",
            "-rw-r--r--  1 root root 388930980 Apr 15 01:30 spark-3.4.3-bin-hadoop3.tgz\n",
            "-rw-r--r--  1 root root 388930980 Apr 15 01:30 spark-3.4.3-bin-hadoop3.tgz.1\n",
            "drwxr-xr-x 13 1000 1000      4096 Apr 15 01:28 spark-3.4.3-bin-hadoop3\n",
            "standalone Spark is now installed\n"
          ]
        }
      ]
    },
    {
      "cell_type": "code",
      "source": [
        "!pip3 install findspark"
      ],
      "metadata": {
        "colab": {
          "base_uri": "https://localhost:8080/"
        },
        "id": "T7r6-ja47eQc",
        "outputId": "2ae344c2-62ac-4407-afda-59893a8a16da"
      },
      "execution_count": null,
      "outputs": [
        {
          "output_type": "stream",
          "name": "stdout",
          "text": [
            "Collecting findspark\n",
            "  Downloading findspark-2.0.1-py2.py3-none-any.whl (4.4 kB)\n",
            "Installing collected packages: findspark\n",
            "Successfully installed findspark-2.0.1\n"
          ]
        }
      ]
    },
    {
      "cell_type": "code",
      "source": [
        "# init spark (ensure SPARK_HOME set to same version as we download earlier)\n",
        "import os\n",
        "os.environ[\"JAVA_HOME\"] = \"/usr/lib/jvm/java-8-openjdk-amd64\"\n",
        "os.environ[\"SPARK_HOME\"] = \"/content/spark-3.4.3-bin-hadoop3\"\n",
        "import findspark\n",
        "findspark.init()\n",
        "from pyspark import SparkConf, SparkContext\n",
        "# the next line gives us 'local' mode. try 'local[2]' to use 2 cores or 'master:NNNN' to run on Spark standalone cluster at port NNNN\n",
        "spark_conf = SparkConf().setMaster('local[2]').setAppName('MyApp')\n",
        "sc = SparkContext(conf=spark_conf)\n",
        "# see what we have by examining the Spark User Interface\n",
        "from pyspark.sql import *\n",
        "from pyspark.sql.functions import *\n",
        "# \"SparkSession\" and \"sc\" are are key handles in to Spark API\n",
        "##SparkSession.builder.getOrCreate()\n",
        "spark = SparkSession.builder.appName(\"bikes\").getOrCreate()"
      ],
      "metadata": {
        "id": "o8dtb6-B-pYv"
      },
      "execution_count": null,
      "outputs": []
    },
    {
      "cell_type": "markdown",
      "source": [
        "## **Loading the Dataset**"
      ],
      "metadata": {
        "id": "Jx0_1GMYOvZS"
      }
    },
    {
      "cell_type": "code",
      "source": [
        "# get file for given year from TfL open data\n",
        "!wget https://cycling.data.tfl.gov.uk/usage-stats/cyclehireusagestats-2014.zip\n",
        "!unzip cyclehireusagestats-2014.zip"
      ],
      "metadata": {
        "id": "_-aWf-8g_Eot",
        "colab": {
          "base_uri": "https://localhost:8080/"
        },
        "outputId": "93c5e637-bb73-47c8-baa9-655de31706eb"
      },
      "execution_count": null,
      "outputs": [
        {
          "output_type": "stream",
          "name": "stdout",
          "text": [
            "--2024-05-11 04:08:00--  https://cycling.data.tfl.gov.uk/usage-stats/cyclehireusagestats-2014.zip\n",
            "Resolving cycling.data.tfl.gov.uk (cycling.data.tfl.gov.uk)... 104.16.98.104, 104.16.97.104\n",
            "Connecting to cycling.data.tfl.gov.uk (cycling.data.tfl.gov.uk)|104.16.98.104|:443... connected.\n",
            "HTTP request sent, awaiting response... 200 OK\n",
            "Length: 225215129 (215M) [application/zip]\n",
            "Saving to: ‘cyclehireusagestats-2014.zip’\n",
            "\n",
            "cyclehireusagestats 100%[===================>] 214.78M   111MB/s    in 1.9s    \n",
            "\n",
            "2024-05-11 04:08:02 (111 MB/s) - ‘cyclehireusagestats-2014.zip’ saved [225215129/225215129]\n",
            "\n",
            "Archive:  cyclehireusagestats-2014.zip\n",
            "  inflating: 1. Journey Data Extract 05Jan14-02Feb14.csv  \n",
            "  inflating: 10a. Journey Data Extract 14Sep14-27Sep14.csv  \n",
            "  inflating: 10b. Journey Data Extract 28Sep14-11Oct14.csv  \n",
            "  inflating: 11a. Journey Data Extract 12Oct14-08Nov14.csv  \n",
            "  inflating: 11b. Journey Data Extract 12Oct14-08Nov14.csv  \n",
            "  inflating: 12a. Journey Data Extract 09Nov14-06Dec14.csv  \n",
            "  inflating: 12b. Journey Data Extract 09Nov14-06Dec14.csv  \n",
            "  inflating: 13a. Journey Data Extract 07Dec14-21Dec14.csv  \n",
            "  inflating: 13b. Journey Data Extract 22Dec14-03Jan15.csv  \n",
            "  inflating: 14. Journey Data Extract 08Dec13-04Jan14.csv  \n",
            "  inflating: 2. Journey Data Extract 03Feb14-01Mar14.csv  \n",
            "  inflating: 3. Journey Data Extract 02Mar14-31Mar14.csv  \n",
            "  inflating: 4. Journey Data Extract 01Apr14-26Apr14.csv  \n",
            "  inflating: 5. Journey Data Extract 27Apr14-24May14.csv  \n",
            "  inflating: 6. Journey Data Extract 25May14-21Jun14.csv  \n",
            "  inflating: 7. Journey Data Extract 22Jun14-19Jul14.csv  \n",
            "  inflating: 8a Journey Data Extract 20Jul14-31Jul14.csv  \n",
            "  inflating: 8b Journey Data Extract 01Aug14-16Aug14.csv  \n",
            "  inflating: 9a Journey Data Extract 17Aug14-31Aug14.csv  \n",
            "  inflating: 9b Journey Data Extract 01Sep14-13Sep14.csv  \n"
          ]
        }
      ]
    },
    {
      "cell_type": "markdown",
      "source": [
        "## **Filter the data to only include rides that Start and End in 2014**"
      ],
      "metadata": {
        "id": "wOoHnQcj90Qj"
      }
    },
    {
      "cell_type": "code",
      "source": [
        "# MULTIPLE FILES INPUT AND ANALYSED for only 2014 rides (rides that start and end in 2014)\n",
        "\n",
        "file1=\"./1. Journey*csv\" # 05 Jan to 02 Feb\n",
        "file2=\"./2. Journey*csv\" # 03 Feb to 01 Mar\n",
        "file3=\"./3. Journey*csv\" # 02 Mar to 31 Mar\n",
        "file4=\"./4. Journey*csv\" # 01 Apr to 26 Apr\n",
        "file5=\"./5. Journey*csv\" # 27 Apr to 24 May\n",
        "file6=\"./6. Journey*csv\" # 25 May to 21 Jun\n",
        "file7=\"./7. Journey*csv\" # 22 Jun to 19 Jul\n",
        "file8=\"./8a Journey*csv\" # 20 Jul to 31 Jul\n",
        "file9=\"./8b Journey*csv\" # 01 Aug to 16 Aug\n",
        "file10=\"./9a Journey*csv\" # 17 Aug to 31 Aug\n",
        "file11=\"./9b Journey*csv\" # 01 Sep to 13 Sep\n",
        "file12=\"./10a. Journey*csv\" # 14 Sep to 27 Sep\n",
        "file13=\"./10b. Journey*csv\" # 28 Sep to 11 Oct\n",
        "file14=\"./11a. Journey*csv\" # 12 Oct to 08 Nov\n",
        "file15=\"./11b. Journey*csv\" # 12 Oct to 08 Sep\n",
        "file16=\"./12a. Journey*csv\" # 09 Nov to 06 Dec\n",
        "file17=\"./12b. Journey*csv\" # 09 Nov to 06 Dec\n",
        "file18=\"./13a. Journey*csv\" # 07 Dec to 21 Dec\n",
        "\n",
        "\n",
        "# we might say therefore that data in these 18 files corresponds to actual \"journey\" in 2014\n",
        "journey_df = (spark.read.format(\"csv\")\n",
        "         .option(\"header\", \"true\")\n",
        "         .option(\"inferSchema\", \"true\")\n",
        "         .load([file1, file2, file3, file4, file5, file6, file7, file8, file9,\n",
        "                file10, file11, file12, file13, file14, file15, file16, file17,\n",
        "                file18])) # i.e pass a Python list of files to load (into a single DF)"
      ],
      "metadata": {
        "id": "igdNXEGKHEzD"
      },
      "execution_count": null,
      "outputs": []
    },
    {
      "cell_type": "code",
      "source": [
        "# show top 10\n",
        "journey_df.show(10)"
      ],
      "metadata": {
        "colab": {
          "base_uri": "https://localhost:8080/"
        },
        "id": "XG4cEtY8MQwA",
        "outputId": "c0cbbceb-9ede-4bac-c744-86ab9a33c489"
      },
      "execution_count": null,
      "outputs": [
        {
          "output_type": "stream",
          "name": "stdout",
          "text": [
            "+---------+--------+-------+----------------+-------------+--------------------+----------------+---------------+--------------------+\n",
            "|Rental Id|Duration|Bike Id|        End Date|EndStation Id|     EndStation Name|      Start Date|StartStation Id|   StartStation Name|\n",
            "+---------+--------+-------+----------------+-------------+--------------------+----------------+---------------+--------------------+\n",
            "| 34263367|    1080|   9076|24/06/2014 00:57|          695|Islington Green, ...|24/06/2014 00:39|            311|Foley Street, Fit...|\n",
            "| 34603487|     660|   6328|03/07/2014 11:51|          695|Islington Green, ...|03/07/2014 11:40|             22|Northington Stree...|\n",
            "| 34689078|     120|   2006|05/07/2014 15:09|          357|Howland Street, F...|05/07/2014 15:07|            311|Foley Street, Fit...|\n",
            "| 34724273|    1260|   7904|06/07/2014 16:35|          695|Islington Green, ...|06/07/2014 16:14|            311|Foley Street, Fit...|\n",
            "| 34956750|    1500|   8251|13/07/2014 00:41|           93|Cloudesley Road, ...|13/07/2014 00:16|            311|Foley Street, Fit...|\n",
            "| 34946549|    1380|   6997|12/07/2014 18:35|          430|South Parade, Che...|12/07/2014 18:12|            514|Portman Square, M...|\n",
            "| 35011368|    2820|   4193|14/07/2014 15:49|          573|Limerston Street,...|14/07/2014 15:02|             14|Belgrove Street ,...|\n",
            "| 35027649|     180|   9781|14/07/2014 19:50|          430|South Parade, Che...|14/07/2014 19:47|            216|Old Brompton Road...|\n",
            "| 35057973|     420|   5133|15/07/2014 17:17|          356|South Kensington ...|15/07/2014 17:10|            216|Old Brompton Road...|\n",
            "| 35086123|    1200|    190|16/07/2014 09:31|          290|Winsland Street, ...|16/07/2014 09:11|            430|South Parade, Che...|\n",
            "+---------+--------+-------+----------------+-------------+--------------------+----------------+---------------+--------------------+\n",
            "only showing top 10 rows\n",
            "\n"
          ]
        }
      ]
    },
    {
      "cell_type": "code",
      "source": [
        "# number of rows\n",
        "journey_df.count()"
      ],
      "metadata": {
        "colab": {
          "base_uri": "https://localhost:8080/"
        },
        "id": "7CpIioUVNSS1",
        "outputId": "e9f43b49-d3fe-41a6-bfbc-fd85fb012c4b"
      },
      "execution_count": null,
      "outputs": [
        {
          "output_type": "execute_result",
          "data": {
            "text/plain": [
              "10653857"
            ]
          },
          "metadata": {},
          "execution_count": 17
        }
      ]
    },
    {
      "cell_type": "markdown",
      "source": [
        "## **Conversion**"
      ],
      "metadata": {
        "id": "37cumWxYTPUw"
      }
    },
    {
      "cell_type": "code",
      "source": [
        "new_journey_df = journey_df.select(\"startstation Id\", \"startstation Name\", \"EndStation Id\", \"EndStation Name\",\n",
        "                                   ((col(\"Duration\")/60).alias('minutes'))\n",
        ")\n",
        "new_journey_df.groupBy(\"StartStation Id\", \"StartStation Name\", \"EndStation Name\").sum(\"minutes\").orderBy(\"sum(minutes)\", ascending=False).show(10)"
      ],
      "metadata": {
        "colab": {
          "base_uri": "https://localhost:8080/"
        },
        "id": "TpxaEvgcRpJb",
        "outputId": "6873eda2-6a6e-4051-e5cb-fbe31271dbd0"
      },
      "execution_count": null,
      "outputs": [
        {
          "output_type": "stream",
          "name": "stdout",
          "text": [
            "+---------------+--------------------+--------------------+------------+\n",
            "|StartStation Id|   StartStation Name|     EndStation Name|sum(minutes)|\n",
            "+---------------+--------------------+--------------------+------------+\n",
            "|            191|Hyde Park Corner,...|Hyde Park Corner,...|   1438308.0|\n",
            "|            307|Black Lion Gate, ...|Black Lion Gate, ...|    705803.0|\n",
            "|            303|Albert Gate, Hyde...|Albert Gate, Hyde...|    569525.0|\n",
            "|            406|Speakers' Corner ...|Speakers' Corner ...|    559325.0|\n",
            "|            407|Speakers' Corner ...|Speakers' Corner ...|    392088.0|\n",
            "|            248|Triangle Car Park...|Triangle Car Park...|    363442.0|\n",
            "|            404|Palace Gate, Kens...|Palace Gate, Kens...|    332747.0|\n",
            "|            191|Hyde Park Corner,...|Albert Gate, Hyde...|    268338.0|\n",
            "|            213|Wellington Arch, ...|Wellington Arch, ...|    223989.0|\n",
            "|            304|Cumberland Gate, ...|Cumberland Gate, ...|    213129.0|\n",
            "+---------------+--------------------+--------------------+------------+\n",
            "only showing top 10 rows\n",
            "\n"
          ]
        }
      ]
    },
    {
      "cell_type": "markdown",
      "source": [
        "## **Identify the \"Baylis Road, Waterloo\" station**"
      ],
      "metadata": {
        "id": "2HxUGp4O_Btq"
      }
    },
    {
      "cell_type": "code",
      "source": [
        "# Identify the \"Baylis Road, Waterloo\" station\n",
        "baylis_road_waterloo = new_journey_df.filter(new_journey_df[\"StartStation Name\"] == \"Baylis Road, Waterloo\")"
      ],
      "metadata": {
        "id": "8NGGYDK34nSM"
      },
      "execution_count": null,
      "outputs": []
    },
    {
      "cell_type": "markdown",
      "source": [
        "**Calculate the average duration of rides starting from Baylis Road, Waterloo**"
      ],
      "metadata": {
        "id": "mfh-sgAV_Fmq"
      }
    },
    {
      "cell_type": "code",
      "source": [
        "baylis_road_avg_duration = baylis_road_waterloo.agg({'minutes': 'mean'}).collect()[0][0]\n",
        "print(f\"Average duration of rides starting from Baylis Road, Waterloo: {baylis_road_avg_duration:.2f} minutes\")"
      ],
      "metadata": {
        "colab": {
          "base_uri": "https://localhost:8080/"
        },
        "id": "XL8mzZbg4nU7",
        "outputId": "dcddf34e-b532-4356-a389-e03b1d429bd0"
      },
      "execution_count": null,
      "outputs": [
        {
          "output_type": "stream",
          "name": "stdout",
          "text": [
            "Average duration of rides starting from Baylis Road, Waterloo: 17.38 minutes\n"
          ]
        }
      ]
    },
    {
      "cell_type": "markdown",
      "source": [
        "## **Identify \"all other stations\"**"
      ],
      "metadata": {
        "id": "PQv3k7yb_Lyy"
      }
    },
    {
      "cell_type": "code",
      "source": [
        "all_other_stations = new_journey_df.filter(new_journey_df[\"StartStation Name\"] != \"Baylis Road, Waterloo\")"
      ],
      "metadata": {
        "id": "MZtXcaTd4nXz"
      },
      "execution_count": null,
      "outputs": []
    },
    {
      "cell_type": "markdown",
      "source": [
        "**Calculate the average duration of rides starting from all other stations**"
      ],
      "metadata": {
        "id": "3fNWiPxy_Vth"
      }
    },
    {
      "cell_type": "code",
      "source": [
        "all_other_avg_duration = all_other_stations.agg({'minutes': 'mean'}).collect()[0][0]\n",
        "print(f\"Average duration of rides starting from all other stations: {all_other_avg_duration:.2f} minutes\")"
      ],
      "metadata": {
        "colab": {
          "base_uri": "https://localhost:8080/"
        },
        "id": "7Rd59EYM4nak",
        "outputId": "06f8a1e3-4702-4742-df1b-8053971b4421"
      },
      "execution_count": null,
      "outputs": [
        {
          "output_type": "stream",
          "name": "stdout",
          "text": [
            "Average duration of rides starting from all other stations: 24.29 minutes\n"
          ]
        }
      ]
    },
    {
      "cell_type": "markdown",
      "source": [
        "## **Perform a statistical test to compare the means**"
      ],
      "metadata": {
        "id": "Mo7Km3Yx_e6R"
      }
    },
    {
      "cell_type": "code",
      "source": [
        "from scipy.stats import ttest_ind\n",
        "t_stat, p_value = ttest_ind(baylis_road_waterloo.select('minutes').rdd.map(lambda x: x[0]).collect(),\n",
        "                           all_other_stations.select('minutes').rdd.map(lambda x: x[0]).collect())\n"
      ],
      "metadata": {
        "id": "2P_12C0x4ndT"
      },
      "execution_count": null,
      "outputs": []
    },
    {
      "cell_type": "markdown",
      "source": [
        "**Evaluate the hypothesis**"
      ],
      "metadata": {
        "id": "P1jZKjihAGdi"
      }
    },
    {
      "cell_type": "code",
      "source": [
        "if p_value < 0.05:\n",
        "    print(\"The hypothesis is accepted. The average duration of rides starting from Baylis Road, Waterloo is significantly shorter than the average duration of rides starting from other stations.\")\n",
        "else:\n",
        "    print(\"The hypothesis is rejected. There is no statistically significant difference between the average duration of rides starting from Baylis Road, Waterloo and the average duration of rides starting from other stations.\")"
      ],
      "metadata": {
        "colab": {
          "base_uri": "https://localhost:8080/"
        },
        "id": "qHqtamnz4ngF",
        "outputId": "0829ec1c-f66d-4124-ddc0-be5095d6b1c3"
      },
      "execution_count": null,
      "outputs": [
        {
          "output_type": "stream",
          "name": "stdout",
          "text": [
            "The hypothesis is accepted. The average duration of rides starting from Baylis Road, Waterloo is significantly shorter than the average duration of rides starting from other stations.\n"
          ]
        }
      ]
    },
    {
      "cell_type": "markdown",
      "source": [
        "The hypothesis is accepted. The average duration of rides starting from Baylis Road, Waterloo is significantly shorter than the average duration of rides starting from other stations."
      ],
      "metadata": {
        "id": "HxP_SkPBe45c"
      }
    },
    {
      "cell_type": "code",
      "source": [],
      "metadata": {
        "id": "bc8PVN6u4nit"
      },
      "execution_count": null,
      "outputs": []
    }
  ]
}